{
 "cells": [
  {
   "cell_type": "markdown",
   "id": "c9592489",
   "metadata": {},
   "source": [
    "## AF Binder Design parameter sweep"
   ]
  },
  {
   "cell_type": "markdown",
   "id": "dce55935",
   "metadata": {},
   "source": [
    "#### Import and define the fixed arguments\n",
    "This cell loads  biolib AF Design application and defines required arguments.\n",
    "\n",
    "**Please change `input_file` to your own PDB file**"
   ]
  },
  {
   "cell_type": "code",
   "execution_count": null,
   "id": "ab06b8a7",
   "metadata": {
    "vscode": {
     "languageId": "python"
    }
   },
   "outputs": [
    {
     "ename": "",
     "evalue": "",
     "output_type": "error",
     "traceback": [
      "\u001b[1;31mThe kernel died. View Jupyter <a href='command:jupyter.viewOutput'>log</a> for further details. \n",
      "Error: /usr/bin/python: No module named ipykernel_launcher..."
     ]
    }
   ],
   "source": [
    "import os \n",
    "import joblib\n",
    "from joblib import delayed\n",
    "import biolib\n",
    "\n",
    "# Load AF Design tool\n",
    "af_design = biolib.load('protein-tools/af-design-dev')\n",
    "\n",
    "# Make dir to save the parameter sweep results\n",
    "output_dir = \"4mzk_param_sweep\"\n",
    "os.mkdir(output_dir)\n",
    "\n",
    "# Define fixed arguments:\n",
    "input_file = \"/home/ubuntu/app-af-design/4mzk.pdb\"\n",
    "chain = \"A\"\n",
    "design_func = \"3\"\n",
    "protocol = \"binder\"\n",
    "\n",
    "fixed_args = [ \"--pdb\", input_file, \"--design\", design_func, \"--protocol\", protocol, \"--chain\", chain]\n"
   ]
  },
  {
   "cell_type": "code",
   "execution_count": null,
   "id": "5f61b6c4",
   "metadata": {
    "vscode": {
     "languageId": "python"
    }
   },
   "outputs": [],
   "source": [
    "# Functions to parallelize the jobs\n",
    "def run_afdesign(args, name):\n",
    "    design_results = af_design.cli([*fixed_args, *args])\n",
    "    design_results.save_files(name)\n",
    "\n",
    "def sweep_parameter(parameter, param_range, save_dir_name, number_of_jobs=3):\n",
    "    joblib.Parallel(n_jobs=number_of_jobs)(delayed(run_afdesign)([f'--{parameter}', str(param_value)], f'{save_dir_name}_{param_value}') for param_value in param_range)\n"
   ]
  },
  {
   "cell_type": "markdown",
   "id": "d07fa96b",
   "metadata": {},
   "source": [
    "#### Parameter sweeping using `sweep_parameter()`\n",
    "\n",
    "Sweeps the parameters in range for specified argument. \n",
    "\n",
    "- `parameter`: The parameter for which to search through values\n",
    "- `param_range`: The range of values to search through\n",
    "- `save_dir_name`: Naming scheme for the dirs where results will be saved. Param value is appended to the end of the name\n",
    "- `number_of_jobs`: Number of jobs running at a time"
   ]
  },
  {
   "cell_type": "code",
   "execution_count": null,
   "id": "5ccd873e",
   "metadata": {
    "vscode": {
     "languageId": "python"
    }
   },
   "outputs": [],
   "source": [
    "# Parameter sweep\n",
    "# Ranges for binder_len\n",
    "start = 15\n",
    "end = 245\n",
    "step = 10\n",
    "\n",
    "# Example with binder_length. Runs will be saved as `binder_len_{param_value}` eg `binder_len_5`\n",
    "sweep_parameter(\n",
    "    parameter='binder-len',\n",
    "    param_range=range(start, end, step),\n",
    "    save_dir_name=f'{output_dir}/binder_len',\n",
    "    number_of_jobs=3\n",
    ")\n"
   ]
  }
 ],
 "metadata": {
  "kernelspec": {
   "display_name": "Python 3",
   "language": "python",
   "name": "python3"
  }
 },
 "nbformat": 4,
 "nbformat_minor": 5
}
