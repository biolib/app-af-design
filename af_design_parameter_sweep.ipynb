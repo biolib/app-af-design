{
 "cells": [
  {
   "cell_type": "markdown",
   "id": "c9592489",
   "metadata": {},
   "source": [
    "## AF Binder Design parameter sweep"
   ]
  },
  {
   "cell_type": "code",
   "execution_count": 1,
   "id": "ab06b8a7",
   "metadata": {},
   "outputs": [
    {
     "name": "stdout",
     "output_type": "stream",
     "text": [
      "2022-04-21 11:30:21,310 | DEBUG : ApiClient: Signing in with BIOLIB_TOKEN...\n",
      "2022-04-21 11:30:21,934 | INFO : Loaded project Protein-Tools/af-design:0.0.5\n"
     ]
    }
   ],
   "source": [
    "import joblib\n",
    "import biolib\n",
    "\n",
    "# Load AF Design tool\n",
    "af_design = biolib.load('protein-tools/af-design')"
   ]
  },
  {
   "cell_type": "code",
   "execution_count": null,
   "id": "5f61b6c4",
   "metadata": {},
   "outputs": [],
   "source": [
    "def run_afdesign(args, name):\n",
    "    design_results = af_design.cli(args)\n",
    "    design_results.save_files(name)\n",
    "\n",
    "def sweep_parameter(parameter, param_range, save_dir_name, number_of_jobs=3)\n",
    "    joblib.Parallel(n_jobs=number_of_jobs)(delayed\n",
    "        (run_afdesign)(f'--{parameter} {param_value}', f'name_{param_value}') for param_value in param_range))\n",
    "    )\n",
    "\n",
    "\"\"\"\n",
    "Sweeps the parameters in range for specified argument.\n",
    "parameter: The parameter for which to search through values\n",
    "param_range: The range of values to search through\n",
    "save_dir_name: Naming scheme for the dirs where results will be saved. Param value is appended to the end of the name\n",
    "number_of_jobs: Number of jobs running at a time\n",
    "\"\"\"\n",
    "\n",
    "# Example with binder_length. Runs will be saved as `binder_len_{param_value}` eg `binder_len_5`\n",
    "sweep_parameter(\n",
    "    parameter='binder-len',\n",
    "    param_range=range(start=15, stop=245, step=10),\n",
    "    save_dir_name='binder_len',\n",
    "    number_of_jobs=3\n",
    ")\n"
   ]
  }
 ],
 "metadata": {
  "kernelspec": {
   "display_name": "Python 3",
   "language": "python",
   "name": "python3"
  },
  "language_info": {
   "codemirror_mode": {
    "name": "ipython",
    "version": 3
   },
   "file_extension": ".py",
   "mimetype": "text/x-python",
   "name": "python",
   "nbconvert_exporter": "python",
   "pygments_lexer": "ipython3",
   "version": "3.9.9"
  }
 },
 "nbformat": 4,
 "nbformat_minor": 5
}
