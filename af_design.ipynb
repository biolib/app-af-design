{
 "cells": [
  {
   "cell_type": "markdown",
   "metadata": {},
   "source": [
    "# AF Binder design\n",
    "\n",
    "Link to [Google Colab Notebook](https://colab.research.google.com/drive/1iCGh-qpgkyPSQT2Hrrr3rgvMaGgcMrbm#scrollTo=-vzFMBrVAVBh)"
   ]
  },
  {
   "cell_type": "markdown",
   "metadata": {},
   "source": [
    "### Create binders for 4MZK"
   ]
  },
  {
   "cell_type": "code",
<<<<<<< HEAD
   "execution_count": null,
   "metadata": {},
   "outputs": [],
=======
   "execution_count": 3,
   "metadata": {},
   "outputs": [
    {
     "name": "stdout",
     "output_type": "stream",
     "text": [
      "env: BIOLIB_TOKEN=I1y3oknRVs28U35GTWJA0XnOS1WMF2J6GQ663KemGDs\n",
      "env: BIOLIB_LOG=debug\n"
     ]
    }
   ],
>>>>>>> main
   "source": [
    "%env BIOLIB_TOKEN=I1y3oknRVs28U35GTWJA0XnOS1WMF2J6GQ663KemGDs\n",
    "%env BIOLIB_LOG=debug\n"
   ]
  },
  {
   "cell_type": "code",
<<<<<<< HEAD
   "execution_count": null,
   "metadata": {},
   "outputs": [],
   "source": [
    "# Run AF Binder design\n",
    "af_design_res = af_design.cli(args='--pdb 4mzk.pdb --chain A --binder-len 20 --protocol binder --design 3 --num-seq 5')\n"
=======
   "execution_count": 4,
   "metadata": {},
   "outputs": [
    {
     "name": "stdout",
     "output_type": "stream",
     "text": [
      "2022-06-15 09:02:26,105 | INFO : Loaded project protein-tools/af-design:0.0.8\n"
     ]
    }
   ],
   "source": [
    "# Import pyBiolib and load the app\n",
    "import biolib\n",
    "af_design = biolib.load('Protein_Tools/af_design')"
   ]
  },
  {
   "cell_type": "code",
   "execution_count": 6,
   "metadata": {},
   "outputs": [
    {
     "name": "stdout",
     "output_type": "stream",
     "text": [
      "2022-06-15 09:41:21,600 | INFO : Started compute node\n",
      "2022-06-15 09:41:22,417 | INFO : Compute Node: Initializing\n",
      "2022-06-15 09:41:22,463 | INFO : Job \"59ce3f26-c99f-4643-97f1-16d2e066e99d\" running...\n",
      "2022-06-15 09:41:23,924 | INFO : Compute Node: Pulling images...\n",
      "2022-06-15 09:41:23,924 | INFO : Compute Node: Computing...\n",
      "2022-06-15 09:41:25.432107: W tensorflow/stream_executor/platform/default/dso_loader.cc:64] Could not load dynamic library 'libcuda.so.1'; dlerror: libcuda.so.1: cannot open shared object file: No such file or directory; LD_LIBRARY_PATH: /usr/local/nvidia/lib:/usr/local/nvidia/lib64\n",
      "2022-06-15 09:41:25.432145: W tensorflow/stream_executor/cuda/cuda_driver.cc:269] failed call to cuInit: UNKNOWN ERROR (303)\n",
      "usage: AF-Design\n",
      "       [-h]\n",
      "       --protocol\n",
      "       {binder,fixbb,partial}\n",
      "       --design\n",
      "       {2,3,logits,soft,hard}\n",
      "       [--pos POS]\n",
      "       [--length LENGTH]\n",
      "       [--fix_seq FIX_SEQ]\n",
      "       [--sidechains SIDECHAINS]\n",
      "       --pdb\n",
      "       PDB\n",
      "       [--chain CHAIN]\n",
      "       [--binder-len BINDER_LEN]\n",
      "       [--dropout DROPOUT]\n",
      "       [--dropout-scale DROPOUT_SCALE]\n",
      "       [--soft-mode {softmax,softmax_gumbel,logits}]\n",
      "       [--hard HARD]\n",
      "       [--num-seq NUM_SEQ]\n",
      "       [--num-models NUM_MODELS]\n",
      "       [--model-mode {sample,parallel}]\n",
      "       [--num-recycles NUM_RECYCLES]\n",
      "       [--recycle-mode {sample,add_prev,last,backprop}]\n",
      "       [--use-templates USE_TEMPLATES]\n",
      "       [--iters ITERS]\n",
      "       [--iters-soft ITERS_SOFT]\n",
      "       [--iters-temp ITERS_TEMP]\n",
      "       [--iters-hard ITERS_HARD]\n",
      "       [--temp TEMP]\n",
      "       [--con CON]\n",
      "       [--icon I_CON]\n",
      "       [--ipae I_PAE]\n",
      "       [--ibkg I_BKG]\n",
      "       [--dgram-cce DGRAM_CCE]\n",
      "       [--fape FAPE]\n",
      "       [--rmsd RMSD]\n",
      "       [--sc_rmsd SC_RMSD]\n",
      "       [--sc_fape SC_FAPE]\n",
      "       [--6D SIX_D]\n",
      "\n",
      "optional arguments:\n",
      "  -h, --help\n",
      "    show this help message and exit\n",
      "\n",
      "Define Protocol options:\n",
      "  --protocol {binder,fixbb,partial}\n",
      "    Protocol for AF-design. Default: binder.\n",
      "    \tbinder: Generate a protein binder sequence that AF thinks that will bind to the target structure.\n",
      "    \tfixbb: Generate a new protein sequence that AF thinks that folds into that conformation.\n",
      "  --design {2,3,logits,soft,hard}\n",
      "    Different functions for the design. Logits, soft, hard and for complex topologies: \n",
      "    \t2 stages: soft-->hard\n",
      "    \t3 stages: logits --> soft --> hard\n",
      "\n",
      "Define Partial Hallucination options:\n",
      "  --pos POS\n",
      "    Define positions to constrain i.e. \"3-5,10,22-50\"\n",
      "  --length LENGTH\n",
      "    Define if the desired length is different from input PDB\n",
      "  --fix_seq FIX_SEQ\n",
      "    set True to constrain the sequence\n",
      "  --sidechains SIDECHAINS\n",
      "    set True to constrain the sidechains\n",
      "\n",
      "Define Input options:\n",
      "  --pdb PDB\n",
      "    PDB input file\n",
      "  --chain CHAIN\n",
      "    Which chain in the PDB, default: A\n",
      "  --binder-len BINDER_LEN\n",
      "    Binder length, max: 256 amino acids\n",
      "\n",
      "Define global options:\n",
      "  --dropout DROPOUT\n",
      "    Use dropout during design, helps jump out of local minima.\n",
      "  --dropout-scale DROPOUT_SCALE\n",
      "    Dropout scale value, default: 1.0\n",
      "  --soft-mode {softmax,softmax_gumbel,logits}\n",
      "    Soft mode options for sequence representation: softmax, softmax_gumbel, logits\n",
      "  --hard HARD\n",
      "    Hard sequence representation. Default: True\n",
      "  --num-seq NUM_SEQ\n",
      "    Number of sequences to predict, default: 1\n",
      "  --num-models NUM_MODELS\n",
      "    Number of model parameters to use, default: 1\n",
      "  --model-mode {sample,parallel}\n",
      "    How to run the models, default: sample.\n",
      "    \tsample: at each iteration, randomly select one model param to use.\n",
      "    \tparallel: run num_models in parallel, average the gradients.\n",
      "  --num-recycles NUM_RECYCLES\n",
      "    Max number of recycles to use during design. For de novo proteins, 0 is usually enough. Default: 0\n",
      "  --recycle-mode {sample,add_prev,last,backprop}\n",
      "    How to run recycles, default: sample.\n",
      "    \tsample: at each iteration, randomly select a number of recycles to use, recommended.\n",
      "    \tnadd_prev: add prediction logits across all recycles, stable but slow and requires memory.\n",
      "    \tlast: only use gradients from last recycle.\n",
      "    \tbackprop: use outputs from last recycle, but backprop through all recycles.\n",
      "  --use-templates USE_TEMPLATES\n",
      "    Use Templates\n",
      "\n",
      "Iterations:\n",
      "  --iters ITERS\n",
      "    General iterations for design: logits, soft and hard. Default: 100\n",
      "  --iters-soft ITERS_SOFT\n",
      "    Iterations for complex topologies. Soft iters. Default: 2stage=100, 3stage=300\n",
      "  --iters-temp ITERS_TEMP\n",
      "    Iterations for complex topologies. Temp iters. Default: 2stage=100, 3stage=100\n",
      "  --iters-hard ITERS_HARD\n",
      "    Iterations for complex topologies. Hard iters. Default: 2stage=50, 3stage=50\n",
      "  --temp TEMP\n",
      "    Temperature factor, default: 1.0\n",
      "\n",
      "Weights:\n",
      "  --con CON\n",
      "    Maximize number of contacts within binder\n",
      "  --icon I_CON\n",
      "    Maximize number of contacts with the interface of the protein\n",
      "  --ipae I_PAE\n",
      "    Minimize Predicted Alignment Error (PAE) interface of the protein\n",
      "  --ibkg I_BKG\n",
      "    Background KL loss\n",
      "  --dgram-cce DGRAM_CCE\n",
      "    Distogram log loss. Minimizes the categorical-cross-entropy between predicted distogram and pdb.\n",
      "    Only for fixbb protocol. Default: 1.0\n",
      "  --fape FAPE\n",
      "    Frame Aligned Point error (FAPE) loss. Minimize the difference between coordinates.\n",
      "    Only for fixbb protocol. Default: 0.0\n",
      "  --rmsd RMSD\n",
      "    Root Mean Squared Deviation (RMSD). Only for fixbb protocol. Default: 0.0\n",
      "  --sc_rmsd SC_RMSD\n",
      "    Root Mean Squared Deviation (RMSD). For sidechains (Used in Partial Hallucination)\n",
      "  --sc_fape SC_FAPE\n",
      "    Frame Aligned Point error (FAPE) loss.. For sidechains (Used in Partial Hallucination)\n",
      "  --6D SIX_D\n",
      "    6D loss (See TrRosetta Paper)\n",
      "2022-06-15 09:41:28,440 | INFO : Compute Node: Computation finished\n",
      "2022-06-15 09:41:28,440 | INFO : Compute Node: Result Ready\n"
     ]
    }
   ],
   "source": [
    "\n",
    "af_design_res = af_design.cli(args='--help')\n"
>>>>>>> main
   ]
  },
  {
   "cell_type": "code",
   "execution_count": null,
   "metadata": {},
   "outputs": [],
   "source": [
    "# Save and visualize outputs\n",
    "af_design_res.save_files(\"biolib_results/\")\n",
    "af_design_res.ipython_markdown()"
   ]
  }
 ],
 "metadata": {
  "interpreter": {
   "hash": "fe4947a6332b1874b56c2cd342584c5fc06d91d06f00c26bb2183f6f91c7f3fd"
  },
  "kernelspec": {
   "display_name": "Python 3.9.12 ('inverse': conda)",
   "language": "python",
   "name": "python3"
  },
  "language_info": {
   "codemirror_mode": {
    "name": "ipython",
    "version": 3
   },
   "file_extension": ".py",
   "mimetype": "text/x-python",
   "name": "python",
   "nbconvert_exporter": "python",
   "pygments_lexer": "ipython3",
   "version": "3.9.12"
  }
 },
 "nbformat": 4,
 "nbformat_minor": 2
}
