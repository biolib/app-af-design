{
 "cells": [
  {
   "cell_type": "markdown",
   "metadata": {},
   "source": [
    "# AF Binder design\n",
    "\n",
    "Link to [Google Colab Notebook](https://colab.research.google.com/drive/1iCGh-qpgkyPSQT2Hrrr3rgvMaGgcMrbm#scrollTo=-vzFMBrVAVBh)"
   ]
  },
  {
   "cell_type": "markdown",
   "metadata": {},
   "source": [
    "### Create binders for 4MZK"
   ]
  },
  {
   "cell_type": "code",
   "execution_count": null,
   "metadata": {},
   "outputs": [],
   "source": [
    "# Import pyBiolib and load the app\n",
    "import biolib\n",
    "af_design = biolib.load('Protein_Tools/af_design')"
   ]
  },
  {
   "cell_type": "code",
   "execution_count": null,
   "metadata": {},
   "outputs": [],
   "source": [
    "# Run AF Binder design\n",
    "af_design_res = af_design.cli(args='--pdb 4mzk.pdb --chain A --binder-len 20 --protocol binder --design 3 --num-seq 5')\n"
   ]
  },
  {
   "cell_type": "code",
   "execution_count": null,
   "metadata": {},
   "outputs": [],
   "source": [
    "# Save and visualize outputs\n",
    "af_design_res.save_files(\"biolib_results/\")\n",
    "af_design_res.ipython_markdown()"
   ]
  }
 ],
 "metadata": {
  "kernelspec": {
   "display_name": "Python 3",
   "language": "python",
   "name": "python3"
  },
  "language_info": {
   "codemirror_mode": {
    "name": "ipython",
    "version": 3
   },
   "file_extension": ".py",
   "mimetype": "text/x-python",
   "name": "python",
   "nbconvert_exporter": "python",
   "pygments_lexer": "ipython3",
   "version": "3.9.9"
  }
 },
 "nbformat": 4,
 "nbformat_minor": 2
}
