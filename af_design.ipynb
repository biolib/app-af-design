{
 "cells": [
  {
   "cell_type": "markdown",
   "metadata": {},
   "source": [
    "# AF Design\n",
    "\n",
    "Link to [Google Colab Notebook](https://colab.research.google.com/drive/1iCGh-qpgkyPSQT2Hrrr3rgvMaGgcMrbm#scrollTo=-vzFMBrVAVBh)"
   ]
  },
  {
   "cell_type": "code",
   "execution_count": 1,
   "metadata": {},
   "outputs": [
    {
     "name": "stdout",
     "output_type": "stream",
     "text": [
      "2022-04-18 21:27:55,627 | INFO : Successfully authenticated\n",
      "2022-04-18 21:27:56,644 | INFO : Loaded project Protein-Tools/af-design-dev:0.0.6\n"
     ]
    }
   ],
   "source": [
    "# Import pyBiolib and load the app\n",
    "import biolib\n",
    "af_design_dev = biolib.load('Protein_Tools/af_design_dev')"
   ]
  },
  {
   "cell_type": "markdown",
   "metadata": {},
   "source": [
    "### **Run the tool with an example:** 4MZK\n",
    "\n",
    "Might need to add absolute the path of the input PDB file instead"
   ]
  },
  {
   "cell_type": "code",
   "execution_count": 4,
   "metadata": {},
   "outputs": [
    {
     "name": "stdout",
     "output_type": "stream",
     "text": [
      "2022-04-18 22:08:02,715 | DEBUG : Starting local compute node at http://127.0.0.1:16722\n",
      "2022-04-18 22:08:03,737 | DEBUG : Could not connect to local compute node retrying...\n",
      "2022-04-18 22:08:06,030 | INFO : Compute Node: Initializing\n",
      "2022-04-18 22:08:07,538 | INFO : Compute Node: Downloading Source Files...\n",
      "2022-04-18 22:08:07,540 | INFO : Compute Node: Pulling images...\n",
      "2022-04-18 22:16:17,980 | ERROR : Compute failed with: Compute Node: Failed to pull docker image\n"
     ]
    },
    {
     "ename": "BioLibError",
     "evalue": "Compute Node: Failed to pull docker image",
     "output_type": "error",
     "traceback": [
      "\u001b[0;31m---------------------------------------------------------------------------\u001b[0m",
      "\u001b[0;31mBioLibError\u001b[0m                               Traceback (most recent call last)",
      "\u001b[0;32m<ipython-input-4-44896fea0355>\u001b[0m in \u001b[0;36m<module>\u001b[0;34m\u001b[0m\n\u001b[0;32m----> 1\u001b[0;31m \u001b[0maf_design_res\u001b[0m \u001b[0;34m=\u001b[0m \u001b[0maf_design_dev\u001b[0m\u001b[0;34m.\u001b[0m\u001b[0mcli\u001b[0m\u001b[0;34m(\u001b[0m\u001b[0margs\u001b[0m\u001b[0;34m=\u001b[0m\u001b[0;34m'--pdb 4mzk.pdb --chain A --binder-len 20 --protocol binder --stages 2'\u001b[0m\u001b[0;34m)\u001b[0m\u001b[0;34m\u001b[0m\u001b[0;34m\u001b[0m\u001b[0m\n\u001b[0m",
      "\u001b[0;32m/usr/local/lib/python3.9/site-packages/biolib/app/app.py\u001b[0m in \u001b[0;36mcli\u001b[0;34m(self, args, stdin, files)\u001b[0m\n\u001b[1;32m     61\u001b[0m                 \u001b[0mlogger\u001b[0m\u001b[0;34m.\u001b[0m\u001b[0mwarning\u001b[0m\u001b[0;34m(\u001b[0m\u001b[0;34mf'Could not update job state to failed:\\n{error}'\u001b[0m\u001b[0;34m)\u001b[0m\u001b[0;34m\u001b[0m\u001b[0;34m\u001b[0m\u001b[0m\n\u001b[1;32m     62\u001b[0m \u001b[0;34m\u001b[0m\u001b[0m\n\u001b[0;32m---> 63\u001b[0;31m             \u001b[0;32mraise\u001b[0m \u001b[0mexception\u001b[0m\u001b[0;34m\u001b[0m\u001b[0;34m\u001b[0m\u001b[0m\n\u001b[0m\u001b[1;32m     64\u001b[0m \u001b[0;34m\u001b[0m\u001b[0m\n\u001b[1;32m     65\u001b[0m     \u001b[0;32mdef\u001b[0m \u001b[0m__call__\u001b[0m\u001b[0;34m(\u001b[0m\u001b[0mself\u001b[0m\u001b[0;34m,\u001b[0m \u001b[0;34m*\u001b[0m\u001b[0margs\u001b[0m\u001b[0;34m,\u001b[0m \u001b[0;34m**\u001b[0m\u001b[0mkwargs\u001b[0m\u001b[0;34m)\u001b[0m\u001b[0;34m:\u001b[0m\u001b[0;34m\u001b[0m\u001b[0;34m\u001b[0m\u001b[0m\n",
      "\u001b[0;32m/usr/local/lib/python3.9/site-packages/biolib/app/app.py\u001b[0m in \u001b[0;36mcli\u001b[0;34m(self, args, stdin, files)\u001b[0m\n\u001b[1;32m     40\u001b[0m \u001b[0;34m\u001b[0m\u001b[0m\n\u001b[1;32m     41\u001b[0m         \u001b[0;32mtry\u001b[0m\u001b[0;34m:\u001b[0m\u001b[0;34m\u001b[0m\u001b[0;34m\u001b[0m\u001b[0m\n\u001b[0;32m---> 42\u001b[0;31m             \u001b[0mmodule_output\u001b[0m \u001b[0;34m=\u001b[0m \u001b[0mrun_job\u001b[0m\u001b[0;34m(\u001b[0m\u001b[0mjob\u001b[0m\u001b[0;34m,\u001b[0m \u001b[0mmodule_input_serialized\u001b[0m\u001b[0;34m)\u001b[0m\u001b[0;34m\u001b[0m\u001b[0;34m\u001b[0m\u001b[0m\n\u001b[0m\u001b[1;32m     43\u001b[0m             \u001b[0;32mtry\u001b[0m\u001b[0;34m:\u001b[0m\u001b[0;34m\u001b[0m\u001b[0;34m\u001b[0m\u001b[0m\n\u001b[1;32m     44\u001b[0m                 \u001b[0mBiolibJobApi\u001b[0m\u001b[0;34m.\u001b[0m\u001b[0mupdate_state\u001b[0m\u001b[0;34m(\u001b[0m\u001b[0mjob_id\u001b[0m\u001b[0;34m=\u001b[0m\u001b[0mjob\u001b[0m\u001b[0;34m[\u001b[0m\u001b[0;34m'public_id'\u001b[0m\u001b[0;34m]\u001b[0m\u001b[0;34m,\u001b[0m \u001b[0mstate\u001b[0m\u001b[0;34m=\u001b[0m\u001b[0mJobState\u001b[0m\u001b[0;34m.\u001b[0m\u001b[0mCOMPLETED\u001b[0m\u001b[0;34m.\u001b[0m\u001b[0mvalue\u001b[0m\u001b[0;34m)\u001b[0m\u001b[0;34m\u001b[0m\u001b[0;34m\u001b[0m\u001b[0m\n",
      "\u001b[0;32m/usr/local/lib/python3.9/site-packages/biolib/app/utils.py\u001b[0m in \u001b[0;36mrun_job\u001b[0;34m(job, module_input_serialized)\u001b[0m\n\u001b[1;32m     51\u001b[0m \u001b[0;34m\u001b[0m\u001b[0m\n\u001b[1;32m     52\u001b[0m         \u001b[0mBiolibJobApi\u001b[0m\u001b[0;34m.\u001b[0m\u001b[0mstart_cloud_job\u001b[0m\u001b[0;34m(\u001b[0m\u001b[0mjob_id\u001b[0m\u001b[0;34m,\u001b[0m \u001b[0mmodule_input_serialized\u001b[0m\u001b[0;34m,\u001b[0m \u001b[0mnode_url\u001b[0m\u001b[0;34m)\u001b[0m\u001b[0;34m\u001b[0m\u001b[0;34m\u001b[0m\u001b[0m\n\u001b[0;32m---> 53\u001b[0;31m         BiolibJobApi.await_compute_node_status(\n\u001b[0m\u001b[1;32m     54\u001b[0m             \u001b[0mretry_interval_seconds\u001b[0m\u001b[0;34m=\u001b[0m\u001b[0;36m1.5\u001b[0m\u001b[0;34m,\u001b[0m\u001b[0;34m\u001b[0m\u001b[0;34m\u001b[0m\u001b[0m\n\u001b[1;32m     55\u001b[0m             \u001b[0mretry_limit_minutes\u001b[0m\u001b[0;34m=\u001b[0m\u001b[0;36m43800\u001b[0m\u001b[0;34m,\u001b[0m  \u001b[0;31m# Let users run an app locally for a month (43800 minutes)\u001b[0m\u001b[0;34m\u001b[0m\u001b[0;34m\u001b[0m\u001b[0m\n",
      "\u001b[0;32m/usr/local/lib/python3.9/site-packages/biolib/biolib_api_client/biolib_job_api.py\u001b[0m in \u001b[0;36mawait_compute_node_status\u001b[0;34m(retry_interval_seconds, retry_limit_minutes, status_to_await, compute_type, node_url, job, aes_key_buffer)\u001b[0m\n\u001b[1;32m    192\u001b[0m                 \u001b[0merror_message\u001b[0m \u001b[0;34m=\u001b[0m \u001b[0mSystemExceptionCodeMap\u001b[0m\u001b[0;34m.\u001b[0m\u001b[0mget\u001b[0m\u001b[0;34m(\u001b[0m\u001b[0merror_code\u001b[0m\u001b[0;34m,\u001b[0m \u001b[0;34mf'Unknown error code {error_code}'\u001b[0m\u001b[0;34m)\u001b[0m\u001b[0;34m\u001b[0m\u001b[0;34m\u001b[0m\u001b[0m\n\u001b[1;32m    193\u001b[0m \u001b[0;34m\u001b[0m\u001b[0m\n\u001b[0;32m--> 194\u001b[0;31m                 \u001b[0;32mraise\u001b[0m \u001b[0mBioLibError\u001b[0m\u001b[0;34m(\u001b[0m\u001b[0;34mf'{compute_type}: {error_message}'\u001b[0m\u001b[0;34m)\u001b[0m\u001b[0;34m\u001b[0m\u001b[0;34m\u001b[0m\u001b[0m\n\u001b[0m\u001b[1;32m    195\u001b[0m \u001b[0;34m\u001b[0m\u001b[0m\n\u001b[1;32m    196\u001b[0m             \u001b[0;32mif\u001b[0m \u001b[0mstatus_is_reached\u001b[0m\u001b[0;34m:\u001b[0m\u001b[0;34m\u001b[0m\u001b[0;34m\u001b[0m\u001b[0m\n",
      "\u001b[0;31mBioLibError\u001b[0m: Compute Node: Failed to pull docker image"
     ]
    }
   ],
   "source": [
    "af_design_res = af_design_dev.cli(args='--pdb 4mzk.pdb --chain A --binder-len 20 --protocol binder --stages 3 --num-seq 5')"
   ]
  },
  {
   "cell_type": "code",
   "execution_count": null,
   "metadata": {},
   "outputs": [],
   "source": []
  }
 ],
 "metadata": {
  "kernelspec": {
   "display_name": "Python 3",
   "language": "python",
   "name": "python3"
  },
  "language_info": {
   "codemirror_mode": {
    "name": "ipython",
    "version": 3
   },
   "file_extension": ".py",
   "mimetype": "text/x-python",
   "name": "python",
   "nbconvert_exporter": "python",
   "pygments_lexer": "ipython3",
   "version": "3.9.9"
  }
 },
 "nbformat": 4,
 "nbformat_minor": 2
}
